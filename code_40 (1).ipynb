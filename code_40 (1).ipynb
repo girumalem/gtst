import os
import csv

# Assume chat_client is already defined with your API key elsewhere
# from openai import ChatOpenAI
# chat_client = ChatOpenAI(model="gpt-4o-mini", temperature=0)

# --- Agent creation ---
def create_agent(chat_client):
    # Stub: Replace with your actual create_openai_functions_agent call
    return chat_client

# --- Core runner ---
def run_on_records(agent, records, debug=False):
    results = []
    for rec in records:
        patient_id = rec.get("patient_id", "UNKNOWN")
        # Fake deterministic response here; replace with agent logic
        decision = "ROUTE FOR REVIEW" if debug else "APPROVE"
        reason = "Debug mode test output" if debug else "Meets policy criteria."
        result = {
            "patient_id": patient_id,
            "generated_response": f"- Decision: {decision}\n- Reason: {reason}"
        }
        results.append(result)
    return results

# --- Validation + Test ---
VALIDATION_PATH = "./Data/validation_records.json"
TEST_PATH = "./Data/test_records.json"
SUBMISSION_PATH = "./Data/submission.csv"

DEBUG = True
VALIDATION_DEBUG_N = 3

def safe_load(path):
    import json
    if os.path.exists(path):
        with open(path, "r", encoding="utf-8") as f:
            return json.load(f)
    return []

val_records = safe_load(VALIDATION_PATH)
test_records = safe_load(TEST_PATH)

agent = create_agent(chat_client)

if val_records and DEBUG:
    print("Validation debug run:")
    debug_results = run_on_records(agent, val_records[:VALIDATION_DEBUG_N], debug=DEBUG)
    for r in debug_results:
        print(f"[DEBUG] Record {r['patient_id']}")
        print(f"[DEBUG] Generated Response: {r['generated_response']}")

if test_records:
    test_results = run_on_records(agent, test_records)
    os.makedirs(os.path.dirname(SUBMISSION_PATH), exist_ok=True)
    with open(SUBMISSION_PATH, "w", newline="", encoding="utf-8") as f:
        w = csv.DictWriter(f, fieldnames=["patient_id", "generated_response"])
        w.writeheader()
        w.writerows(test_results)
    print(f"Wrote {SUBMISSION_PATH} with {len(test_results)} rows.")
